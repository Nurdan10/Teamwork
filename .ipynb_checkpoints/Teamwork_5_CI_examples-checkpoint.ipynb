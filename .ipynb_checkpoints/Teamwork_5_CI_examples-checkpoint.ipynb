{
 "cells": [
  {
   "cell_type": "code",
   "execution_count": 6,
   "id": "1851cb09-1e4a-466d-ae3f-26fe84d10189",
   "metadata": {},
   "outputs": [],
   "source": [
    "import scipy.stats as stats\n",
    "from scipy.stats import norm\n",
    "import numpy as np"
   ]
  },
  {
   "cell_type": "markdown",
   "id": "779675c1-c861-478c-b1c8-f2b4fa00fb64",
   "metadata": {},
   "source": [
    "# TI 83 Confidence Interval:Two Populations"
   ]
  },
  {
   "cell_type": "markdown",
   "id": "fc87040a-608b-4b4e-8bec-dd5b5bcc3154",
   "metadata": {},
   "source": [
    "**Example problem:**\n",
    "\n",
    "Find a 98% CI for the difference in means for two normally distributed populations with the following characteristics:"
   ]
  },
  {
   "cell_type": "code",
   "execution_count": 8,
   "id": "527f9b3a-fefd-41d7-9c25-654f2d3b88bb",
   "metadata": {},
   "outputs": [
    {
     "name": "stdout",
     "output_type": "stream",
     "text": [
      "98% Confidence Interval for the Difference in Means: (6.746661954216088, 21.253338045783913)\n"
     ]
    }
   ],
   "source": [
    "x1 = 88.5\n",
    "sigma1 = 15.8\n",
    "n1 = 38\n",
    "\n",
    "x2 = 74.5\n",
    "sigma2 = 12.3\n",
    "n2 = 48\n",
    "\n",
    "std_error_diff = np.sqrt((sigma1**2 / n1) + (sigma2**2 / n2))\n",
    "\n",
    "z_score = norm.ppf(0.99)  \n",
    "margin_of_error = z_score * std_error_diff\n",
    "\n",
    "confidence_interval = (x1 - x2 - margin_of_error, x1 - x2 + margin_of_error)\n",
    "\n",
    "print(\"98% Confidence Interval for the Difference in Means:\", confidence_interval)"
   ]
  },
  {
   "cell_type": "markdown",
   "id": "88587b77-20a0-47f2-b2ae-527257606e52",
   "metadata": {},
   "source": [
    "# How to Find a Confidence Interval for Population Proportion, p on the TI 83"
   ]
  },
  {
   "cell_type": "markdown",
   "id": "91247e20-cf36-4d9c-bd53-f0cfea9cb200",
   "metadata": {},
   "source": [
    "**Example problem:** \n",
    "\n",
    "A recent poll shows that 879 of 1412 Americans have had at least one caffeinated beverage in the last week. Construct a 90% confidence interval for p, the true population proportion."
   ]
  },
  {
   "cell_type": "code",
   "execution_count": 9,
   "id": "dd74cd22-308e-4e00-93fd-cd055aa9bf79",
   "metadata": {},
   "outputs": [
    {
     "name": "stdout",
     "output_type": "stream",
     "text": [
      "Güven Aralığı (%90): (0.6013018389274025, 0.6437406539904444)\n"
     ]
    }
   ],
   "source": [
    "n = 1412  \n",
    "x = 879  \n",
    "\n",
    "p_hat = x / n\n",
    "\n",
    "alpha = 0.1 \n",
    "z_score = stats.norm.ppf(1 - alpha / 2)\n",
    "\n",
    "#margin_of_error = z_score * sem(s/n**0.5)\n",
    "\n",
    "margin_of_error = z_score * ((p_hat * (1 - p_hat)) / n)**0.5\n",
    "lower_bound = p_hat - margin_of_error\n",
    "upper_bound = p_hat + margin_of_error\n",
    "print(\"Güven Aralığı (%90):\", (lower_bound, upper_bound))"
   ]
  },
  {
   "cell_type": "markdown",
   "id": "5694e3f3-b17b-4f12-afd0-97116f4c9959",
   "metadata": {},
   "source": [
    "# How to Find a Confidence Interval on the TI 83 for the Population Mean"
   ]
  },
  {
   "cell_type": "markdown",
   "id": "9920f234-5dab-45f1-a4bf-0a4b09de2867",
   "metadata": {},
   "source": [
    "**Example problem:**\n",
    "\n",
    "40 items are sampled from a normally distributed population with a sample mean x̄ of 22.1 and a population standard deviation(σ) of 12.8. Construct a 98% confidence interval for the true population mean."
   ]
  },
  {
   "cell_type": "code",
   "execution_count": 10,
   "id": "13211abd-a410-43d0-973d-f5619360a551",
   "metadata": {},
   "outputs": [
    {
     "name": "stdout",
     "output_type": "stream",
     "text": [
      "98% Confidence Interval: (17.39180293640989, 26.808197063590114)\n"
     ]
    }
   ],
   "source": [
    "\n",
    "x_bar = 22.1  \n",
    "s = 12.8  \n",
    "n = 40   \n",
    "ci = 0.98  \n",
    "\n",
    "Z = stats.norm.ppf((1 + ci) / 2)  \n",
    "\n",
    "margin_of_error = Z * (s / (n ** 0.5))\n",
    "\n",
    "lower_bound = x_bar - margin_of_error\n",
    "upper_bound = x_bar + margin_of_error\n",
    "\n",
    "# Print the confidence interval\n",
    "print(\"98% Confidence Interval:\", (lower_bound, upper_bound))"
   ]
  },
  {
   "cell_type": "markdown",
   "id": "7ca55bd4-5cd6-4644-beb7-d3bce0fc6a5b",
   "metadata": {},
   "source": [
    "# How to Find a Confidence Interval for the Mean on the TI 89"
   ]
  },
  {
   "cell_type": "markdown",
   "id": "6aa1225f-1d8a-40c2-a066-6b6c6bb4f68f",
   "metadata": {},
   "source": [
    "**Example problem (known standard deviation):**\n",
    "\n",
    "Fifty students at a Florida college have the following grade point averages: 94.8, 84.1, 83.2, 74.0, 75.1, 76.2, 79.1, 80.1, 92.1, 74.2, 64.2, 41.8, 57.2, 59.1, 65.0, 75.1, 79.2, 95.0, 99.8, 89.1, 59.2, 64.0, 75.1, 78.2, 95.0, 97.8, 89.1, 65.2, 41.9, 55.2. Find the 95% confidence interval for the population mean, given that σ = 2.27."
   ]
  },
  {
   "cell_type": "code",
   "execution_count": 13,
   "id": "2bb8ca31-3af4-4b81-9a83-e2d23b64069c",
   "metadata": {},
   "outputs": [
    {
     "name": "stdout",
     "output_type": "stream",
     "text": [
      "95% Confidence Interval: (74.49103919208574, 76.11562747458092)\n"
     ]
    }
   ],
   "source": [
    "grades = [94.8, 84.1, 83.2, 74.0, 75.1, 76.2, 79.1, 80.1, 92.1, 74.2,\n",
    "          64.2, 41.8, 57.2, 59.1, 65.0, 75.1, 79.2, 95.0, 99.8, 89.1,\n",
    "          59.2, 64.0, 75.1, 78.2, 95.0, 97.8, 89.1, 65.2, 41.9, 55.2]\n",
    "\n",
    "x_bar = np.mean(grades)\n",
    "\n",
    "s = 2.27\n",
    "n = len(grades) \n",
    "ci = 0.95\n",
    "\n",
    "Z = stats.norm.ppf((1 + ci) / 2) \n",
    "\n",
    "margin_of_error = Z * (s / (n ** 0.5))\n",
    "\n",
    "lower_bound = x_bar - margin_of_error\n",
    "upper_bound = x_bar + margin_of_error\n",
    "\n",
    "print(\"95% Confidence Interval:\", (lower_bound, upper_bound))"
   ]
  },
  {
   "cell_type": "markdown",
   "id": "a26360b2-eb09-4fcb-91ee-b70ad2789c4c",
   "metadata": {},
   "source": [
    "**Example problem (unknown standard deviation):**\n",
    "\n",
    "A random sample of 30 students at a Florida college has the following grade point averages: 59.1, 65.0, 75.1, 79.2, 95.0, 99.8, 89.1, 65.2, 41.9, 55.2, 94.8, 84.1, 83.2, 74.0, 75.1, 76.2, 79.1, 80.1, 92.1, 74.2, 59.2, 64.0, 75.1, 78.2, 95.0, 97.8, 89.1, 64.2, 41.8, 57.2. What is the 90% confidence interval for the population mean?"
   ]
  },
  {
   "cell_type": "code",
   "execution_count": 14,
   "id": "fe563f7e-2349-45dd-ac84-d47363dd8e5d",
   "metadata": {},
   "outputs": [
    {
     "name": "stdout",
     "output_type": "stream",
     "text": [
      "90% Confidence Interval: (70.45591223729348, 80.15075442937318)\n"
     ]
    }
   ],
   "source": [
    "\n",
    "grades = [59.1, 65.0, 75.1, 79.2, 95.0, 99.8, 89.1, 65.2, 41.9, 55.2,\n",
    "          94.8, 84.1, 83.2, 74.0, 75.1, 76.2, 79.1, 80.1, 92.1, 74.2,\n",
    "          59.2, 64.0, 75.1, 78.2, 95.0, 97.8, 89.1, 64.2, 41.8, 57.2]\n",
    "n = len(grades)\n",
    "\n",
    "confidence_level = 0.90\n",
    "\n",
    "lower_bound, upper_bound = stats.t.interval(confidence_level, df=n-1, loc=np.mean(grades), scale=stats.sem(grades))\n",
    "\n",
    "print(\"90% Confidence Interval:\", (lower_bound, upper_bound))"
   ]
  },
  {
   "cell_type": "markdown",
   "id": "979df9bc-578e-459d-ae03-361ff11e36cc",
   "metadata": {},
   "source": [
    "# How to find a Confidence Interval for a Proportion on the TI 89"
   ]
  },
  {
   "cell_type": "markdown",
   "id": "5ad9f8e4-ee89-457b-8b72-a70af676e9ac",
   "metadata": {},
   "source": [
    "**Example problem 1:**\n",
    "\n",
    "In a simple random sample of 295 students, 59.4% of students agreed to a tuition increase to fund increased professor salaries. What is the 95% CI for the proportion in the entire student body who would agree?"
   ]
  },
  {
   "cell_type": "code",
   "execution_count": 15,
   "id": "53903bed-a365-4683-b02c-d16e1d66c9fd",
   "metadata": {},
   "outputs": [
    {
     "name": "stdout",
     "output_type": "stream",
     "text": [
      "95% Confidence Interval: (0.537960619928849, 0.6500393800711509)\n"
     ]
    }
   ],
   "source": [
    "p_hat = 0.594 \n",
    "n = 295 \n",
    "confidence_level = 0.95 \n",
    "\n",
    "z = stats.norm.ppf((1 + confidence_level) / 2)  \n",
    "\n",
    "margin_of_error = z * ( (p_hat * (1 - p_hat)) / n )**0.5\n",
    "\n",
    "lower_bound = p_hat - margin_of_error\n",
    "upper_bound = p_hat + margin_of_error\n",
    "\n",
    "print(\"95% Confidence Interval:\", (lower_bound, upper_bound))"
   ]
  },
  {
   "cell_type": "markdown",
   "id": "3060f8ec-9eda-4049-bbba-56812029d9a1",
   "metadata": {},
   "source": [
    "**Example problem 2:**\n",
    "\n",
    "A recent poll in a simple random sample of 986 women college students found that 699 agreed that textbooks were too expensive. Out of 921 men surveyed by the same manner, 750 thought that textbooks were too expensive. What is the 95% confidence interval for the difference in proportions between the two populations?"
   ]
  },
  {
   "cell_type": "code",
   "execution_count": 16,
   "id": "78a116c1-165d-4bea-be65-89ad8558de77",
   "metadata": {},
   "outputs": [
    {
     "name": "stdout",
     "output_type": "stream",
     "text": [
      "95% Confidence Interval for the difference in proportions: (0.06753155840394806, 0.14328303812993673)\n"
     ]
    }
   ],
   "source": [
    "p1_hat = 699 / 986\n",
    "n1 = 986\n",
    "p2_hat = 750 / 921\n",
    "n2 = 921\n",
    "\n",
    "confidence_level = 0.95\n",
    "\n",
    "diff_proportions = p2_hat - p1_hat\n",
    "\n",
    "std_error_diff = np.sqrt((p2_hat * (1 - p2_hat) / n2) + (p1_hat * (1 - p1_hat) / n1))\n",
    "\n",
    "z = stats.norm.ppf((1 + confidence_level) / 2)\n",
    "\n",
    "margin_of_error = z * std_error_diff\n",
    "\n",
    "lower_bound = diff_proportions - margin_of_error\n",
    "upper_bound = diff_proportions + margin_of_error\n",
    "\n",
    "print(\"95% Confidence Interval for the difference in proportions:\", (lower_bound, upper_bound))"
   ]
  }
 ],
 "metadata": {
  "kernelspec": {
   "display_name": "Python 3 (ipykernel)",
   "language": "python",
   "name": "python3"
  },
  "language_info": {
   "codemirror_mode": {
    "name": "ipython",
    "version": 3
   },
   "file_extension": ".py",
   "mimetype": "text/x-python",
   "name": "python",
   "nbconvert_exporter": "python",
   "pygments_lexer": "ipython3",
   "version": "3.11.7"
  }
 },
 "nbformat": 4,
 "nbformat_minor": 5
}
