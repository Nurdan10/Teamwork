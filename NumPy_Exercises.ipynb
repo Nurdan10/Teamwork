{
  "nbformat": 4,
  "nbformat_minor": 0,
  "metadata": {
    "colab": {
      "provenance": []
    },
    "kernelspec": {
      "name": "python3",
      "display_name": "Python 3"
    },
    "language_info": {
      "name": "python"
    }
  },
  "cells": [
    {
      "cell_type": "markdown",
      "source": [
        "1. Import NumPy as np\n"
      ],
      "metadata": {
        "id": "zc4Aw2-FmrUw"
      }
    },
    {
      "cell_type": "code",
      "execution_count": 1,
      "metadata": {
        "id": "wE_eDvZBbHNd"
      },
      "outputs": [],
      "source": [
        "import numpy as np"
      ]
    },
    {
      "cell_type": "markdown",
      "source": [
        "2. Create an array of 10 zeros"
      ],
      "metadata": {
        "id": "hVLoh2-Bmv6e"
      }
    },
    {
      "cell_type": "code",
      "source": [
        "np.zeros(10)"
      ],
      "metadata": {
        "colab": {
          "base_uri": "https://localhost:8080/"
        },
        "id": "j3ZfqRHpbc06",
        "outputId": "aca5167c-54ef-4d3c-a7ca-4b25e5b3311a"
      },
      "execution_count": 11,
      "outputs": [
        {
          "output_type": "execute_result",
          "data": {
            "text/plain": [
              "array([0., 0., 0., 0., 0., 0., 0., 0., 0., 0.])"
            ]
          },
          "metadata": {},
          "execution_count": 11
        }
      ]
    },
    {
      "cell_type": "markdown",
      "source": [
        "3. Create an array of 10 ones"
      ],
      "metadata": {
        "id": "RDqPAG2cmy4X"
      }
    },
    {
      "cell_type": "code",
      "source": [
        "np.ones(10)"
      ],
      "metadata": {
        "colab": {
          "base_uri": "https://localhost:8080/"
        },
        "id": "m9pjgsW6cBBN",
        "outputId": "35d4705e-1a24-4744-846a-22f70de68009"
      },
      "execution_count": 12,
      "outputs": [
        {
          "output_type": "execute_result",
          "data": {
            "text/plain": [
              "array([1., 1., 1., 1., 1., 1., 1., 1., 1., 1.])"
            ]
          },
          "metadata": {},
          "execution_count": 12
        }
      ]
    },
    {
      "cell_type": "markdown",
      "source": [
        "4. Create an array of 10 fives"
      ],
      "metadata": {
        "id": "Qm4z9Gb5m280"
      }
    },
    {
      "cell_type": "code",
      "source": [
        "np.linspace(5, 5, 10)"
      ],
      "metadata": {
        "colab": {
          "base_uri": "https://localhost:8080/"
        },
        "id": "p2nBqPYZcJU8",
        "outputId": "553a5b10-8bba-4e17-bb1d-731334107078"
      },
      "execution_count": 4,
      "outputs": [
        {
          "output_type": "execute_result",
          "data": {
            "text/plain": [
              "array([5., 5., 5., 5., 5., 5., 5., 5., 5., 5.])"
            ]
          },
          "metadata": {},
          "execution_count": 4
        }
      ]
    },
    {
      "cell_type": "markdown",
      "source": [
        "5. Create an array of the integers from 10 to 50"
      ],
      "metadata": {
        "id": "-t8lMCzknFTr"
      }
    },
    {
      "cell_type": "code",
      "source": [
        "np.arange(10, 51)"
      ],
      "metadata": {
        "colab": {
          "base_uri": "https://localhost:8080/"
        },
        "id": "yU_hMGk4cUi2",
        "outputId": "67fd8113-62b1-447b-d7f2-2cde3519c716"
      },
      "execution_count": 7,
      "outputs": [
        {
          "output_type": "execute_result",
          "data": {
            "text/plain": [
              "array([10, 11, 12, 13, 14, 15, 16, 17, 18, 19, 20, 21, 22, 23, 24, 25, 26,\n",
              "       27, 28, 29, 30, 31, 32, 33, 34, 35, 36, 37, 38, 39, 40, 41, 42, 43,\n",
              "       44, 45, 46, 47, 48, 49, 50])"
            ]
          },
          "metadata": {},
          "execution_count": 7
        }
      ]
    },
    {
      "cell_type": "markdown",
      "source": [
        "6. Create an array of all the even integers from 10 to 50"
      ],
      "metadata": {
        "id": "qY4AwHfPnIoB"
      }
    },
    {
      "cell_type": "code",
      "source": [
        "np.arange(10, 51, 2)"
      ],
      "metadata": {
        "colab": {
          "base_uri": "https://localhost:8080/"
        },
        "id": "O0CNYKnycf9M",
        "outputId": "d4df334e-81c0-4c51-c0bb-23ff2044eedd"
      },
      "execution_count": 8,
      "outputs": [
        {
          "output_type": "execute_result",
          "data": {
            "text/plain": [
              "array([10, 12, 14, 16, 18, 20, 22, 24, 26, 28, 30, 32, 34, 36, 38, 40, 42,\n",
              "       44, 46, 48, 50])"
            ]
          },
          "metadata": {},
          "execution_count": 8
        }
      ]
    },
    {
      "cell_type": "markdown",
      "source": [
        "7. Create a 3x3 matrix with values ranging from 0 to 8"
      ],
      "metadata": {
        "id": "iwgfqGRknLXk"
      }
    },
    {
      "cell_type": "code",
      "source": [
        "np.arange(9).reshape(3, 3)"
      ],
      "metadata": {
        "colab": {
          "base_uri": "https://localhost:8080/"
        },
        "id": "kQqS3DuAdSUV",
        "outputId": "006ec3a4-8c1c-473e-f94c-fbcd2fdecfb4"
      },
      "execution_count": 13,
      "outputs": [
        {
          "output_type": "execute_result",
          "data": {
            "text/plain": [
              "array([[0, 1, 2],\n",
              "       [3, 4, 5],\n",
              "       [6, 7, 8]])"
            ]
          },
          "metadata": {},
          "execution_count": 13
        }
      ]
    },
    {
      "cell_type": "markdown",
      "source": [
        "8. Create a 3x3 identity matrix"
      ],
      "metadata": {
        "id": "RPx5wK16nOea"
      }
    },
    {
      "cell_type": "code",
      "source": [
        "np.identity(3) #np.eye(3) ile de yapilabilir."
      ],
      "metadata": {
        "colab": {
          "base_uri": "https://localhost:8080/"
        },
        "id": "kwEqtdCAlqH4",
        "outputId": "6b1e32f5-72ee-405d-f874-5a0a80df8834"
      },
      "execution_count": 14,
      "outputs": [
        {
          "output_type": "execute_result",
          "data": {
            "text/plain": [
              "array([[1., 0., 0.],\n",
              "       [0., 1., 0.],\n",
              "       [0., 0., 1.]])"
            ]
          },
          "metadata": {},
          "execution_count": 14
        }
      ]
    },
    {
      "cell_type": "markdown",
      "source": [
        "9. Use NumPy to generate a random number between 0 and 1\n",
        "random.rand() fonksiyonu, belirtilen boyutta bir veya birden fazla boyutlu bir dizi oluşturarak belirli bir dağılıma göre rastgele sayılar üretir. Bu fonksiyon, belirtilen boyutlarda 0 ile 1 arasında uniform (düzgün) dağılımlı rastgele sayılar üretir.\n",
        "\n",
        "Örneğin, np.random.rand() çağrısı tek bir rastgele sayı üretir ve bu sayı 0 ile 1 arasındadır. Bu, 0 dahil, 1 hariç bir değer olacaktır."
      ],
      "metadata": {
        "id": "6PMr5GI_nair"
      }
    },
    {
      "cell_type": "code",
      "source": [
        "random_number = np.random.rand()\n",
        "print(random_number)"
      ],
      "metadata": {
        "colab": {
          "base_uri": "https://localhost:8080/"
        },
        "id": "HdVRaplQnghb",
        "outputId": "00fb5787-4bb3-40b8-ca96-f6afbd66b145"
      },
      "execution_count": 21,
      "outputs": [
        {
          "output_type": "stream",
          "name": "stdout",
          "text": [
            "0.42344446247029743\n"
          ]
        }
      ]
    },
    {
      "cell_type": "markdown",
      "source": [
        "10. Use NumPy to generate an array of 25 random numbers sampled from a standard normal distribution\n",
        "random.randn() fonksiyonu, belirtilen boyutta bir veya birden fazla boyutlu bir dizi oluşturarak standart normal dağılıma göre rastgele sayılar üretir. Standart normal dağılım, ortalaması (mean) 0 ve standart sapması (standard deviation) 1 olan bir normal dağılımdır.\n",
        "\n",
        "Örneğin, np.random.randn(25) çağrısı 25 adet rastgele sayı üretir, bu sayılar standart normal dağılıma göre seçilir. Yani, bu rastgele sayılar 0'a yakın olan ve normal dağılıma sahip olacaklardır, yani genellikle 0'a yakın olan daha fazla sayı elde edilir ve daha büyük veya daha küçük değerler daha az olasılıkla elde edilir."
      ],
      "metadata": {
        "id": "0SuJ9s57nlak"
      }
    },
    {
      "cell_type": "code",
      "source": [
        "np.random.randn(25)"
      ],
      "metadata": {
        "colab": {
          "base_uri": "https://localhost:8080/"
        },
        "id": "K8Ipx3UqqNDt",
        "outputId": "1964abb6-ccac-45ff-daf3-4c6eb2949310"
      },
      "execution_count": 22,
      "outputs": [
        {
          "output_type": "execute_result",
          "data": {
            "text/plain": [
              "array([ 0.08087027,  0.23846696,  1.59969589, -0.48109877, -0.9385352 ,\n",
              "        0.81654906, -1.10321399,  0.50626966,  1.24108091,  0.06929857,\n",
              "        0.55295443, -0.87558958, -0.45557198,  1.37028486, -1.34845037,\n",
              "        1.77234192,  1.02822068,  1.36948152, -0.47816199, -0.0405957 ,\n",
              "       -2.18097642,  0.06483806, -0.10713709, -0.80066545, -0.90303515])"
            ]
          },
          "metadata": {},
          "execution_count": 22
        }
      ]
    },
    {
      "cell_type": "markdown",
      "source": [
        "11. Create the following matrix:"
      ],
      "metadata": {
        "id": "Lyl9WNbKnmem"
      }
    },
    {
      "cell_type": "code",
      "source": [
        "np.arange(0.01, 1.01, 0.01).reshape(10, 10)"
      ],
      "metadata": {
        "colab": {
          "base_uri": "https://localhost:8080/"
        },
        "id": "LNQoeV62rgAh",
        "outputId": "283a489b-1091-4f8d-d8e7-4489b33e9c4d"
      },
      "execution_count": 28,
      "outputs": [
        {
          "output_type": "execute_result",
          "data": {
            "text/plain": [
              "array([[0.01, 0.02, 0.03, 0.04, 0.05, 0.06, 0.07, 0.08, 0.09, 0.1 ],\n",
              "       [0.11, 0.12, 0.13, 0.14, 0.15, 0.16, 0.17, 0.18, 0.19, 0.2 ],\n",
              "       [0.21, 0.22, 0.23, 0.24, 0.25, 0.26, 0.27, 0.28, 0.29, 0.3 ],\n",
              "       [0.31, 0.32, 0.33, 0.34, 0.35, 0.36, 0.37, 0.38, 0.39, 0.4 ],\n",
              "       [0.41, 0.42, 0.43, 0.44, 0.45, 0.46, 0.47, 0.48, 0.49, 0.5 ],\n",
              "       [0.51, 0.52, 0.53, 0.54, 0.55, 0.56, 0.57, 0.58, 0.59, 0.6 ],\n",
              "       [0.61, 0.62, 0.63, 0.64, 0.65, 0.66, 0.67, 0.68, 0.69, 0.7 ],\n",
              "       [0.71, 0.72, 0.73, 0.74, 0.75, 0.76, 0.77, 0.78, 0.79, 0.8 ],\n",
              "       [0.81, 0.82, 0.83, 0.84, 0.85, 0.86, 0.87, 0.88, 0.89, 0.9 ],\n",
              "       [0.91, 0.92, 0.93, 0.94, 0.95, 0.96, 0.97, 0.98, 0.99, 1.  ]])"
            ]
          },
          "metadata": {},
          "execution_count": 28
        }
      ]
    },
    {
      "cell_type": "markdown",
      "source": [
        "12. Create an array of 20 linearly spaced points between 0 and 1:\n",
        "Bu kod, 0 ile 1 arasında (0 ve 1 dahil olmak üzere) lineer olarak eşit aralıklı 20 noktadan oluşan bir diziyi oluşturur.\n",
        "\n",
        "Yani, 0 ile 1 arasındaki bu aralığı 20 eşit parçaya böler ve her parçanın başlangıçtan sona doğru olan uzaklığı aynı olacak şekilde 20 nokta oluşturur. Bu noktalar, lineer bir şekilde artar.\n",
        "\n",
        "Örneğin, çıktı şu şekilde olacaktır:"
      ],
      "metadata": {
        "id": "LrK0G_o6npRW"
      }
    },
    {
      "cell_type": "code",
      "source": [
        "np.linspace(0, 1, 20)"
      ],
      "metadata": {
        "colab": {
          "base_uri": "https://localhost:8080/"
        },
        "id": "PyGARhVitIDT",
        "outputId": "fcd2188c-8609-4983-c10d-c997be684964"
      },
      "execution_count": 27,
      "outputs": [
        {
          "output_type": "execute_result",
          "data": {
            "text/plain": [
              "array([0.        , 0.05263158, 0.10526316, 0.15789474, 0.21052632,\n",
              "       0.26315789, 0.31578947, 0.36842105, 0.42105263, 0.47368421,\n",
              "       0.52631579, 0.57894737, 0.63157895, 0.68421053, 0.73684211,\n",
              "       0.78947368, 0.84210526, 0.89473684, 0.94736842, 1.        ])"
            ]
          },
          "metadata": {},
          "execution_count": 27
        }
      ]
    },
    {
      "cell_type": "markdown",
      "source": [
        "13. Write code that reproduces the output shown below."
      ],
      "metadata": {
        "id": "iZVn3v5rnwnN"
      }
    },
    {
      "cell_type": "markdown",
      "source": [
        "14. Write code that reproduces the output shown below."
      ],
      "metadata": {
        "id": "49e3cAFNnyHq"
      }
    },
    {
      "cell_type": "markdown",
      "source": [
        "15. Write code that reproduces the output shown below."
      ],
      "metadata": {
        "id": "jB5Sl17An0hO"
      }
    },
    {
      "cell_type": "markdown",
      "source": [
        "16. Write code that reproduces the output shown below."
      ],
      "metadata": {
        "id": "e5ZHqViEn39G"
      }
    },
    {
      "cell_type": "markdown",
      "source": [
        "17. Write code that reproduces the output shown below."
      ],
      "metadata": {
        "id": "yroyRAbqn600"
      }
    },
    {
      "cell_type": "markdown",
      "source": [
        "18. Get the sum of all the values in mat"
      ],
      "metadata": {
        "id": "Q7zfjpBUn9HU"
      }
    },
    {
      "cell_type": "markdown",
      "source": [
        "19. Get the standard deviation of the values in mat"
      ],
      "metadata": {
        "id": "sTkmXULEn_pm"
      }
    },
    {
      "cell_type": "markdown",
      "source": [
        "20. Get the sum of all the columns in mat"
      ],
      "metadata": {
        "id": "OgcofXkooB9s"
      }
    },
    {
      "cell_type": "markdown",
      "source": [
        "Bonus Question\n",
        "\n",
        "We worked a lot with random data with numpy, but is there a way we can insure that we always get the same random numbers?"
      ],
      "metadata": {
        "id": "3VeoigQ2oDiJ"
      }
    },
    {
      "cell_type": "code",
      "source": [
        "np.random.seed(42)"
      ],
      "metadata": {
        "id": "Noid4JrnoK4B"
      },
      "execution_count": null,
      "outputs": []
    }
  ]
}