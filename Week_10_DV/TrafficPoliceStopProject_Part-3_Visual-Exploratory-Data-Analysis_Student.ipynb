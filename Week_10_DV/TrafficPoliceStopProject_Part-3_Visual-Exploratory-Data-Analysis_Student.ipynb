{
 "cells": [
  {
   "cell_type": "markdown",
   "metadata": {},
   "source": [
    "<a href=\"https://clarusway.com/contact-us/\"><img align=\"center\" src=\"https://i.ibb.co/B43qn24/officially-licensed-logo.png\" alt=\"Open in Clarusway LMS\" width=\"200\" height=\"200\" title=\"This notebook is licensed by Clarusway IT training school. Please contact the authorized persons about the conditions under which you can use or share.\"></a>"
   ]
  },
  {
   "cell_type": "markdown",
   "metadata": {},
   "source": [
    "<p style=\"text-align: center;\"><img src=\"https://i.ibb.co/Rpz9L36/clarusway-logo-black.png\" width=\"600\" height=\"150\" class=\"img-fluid\" alt=\"CLRSWY_LOGO\"></p>\n",
    "<p style=\"text-align: center;\"><img src=\"https://i.ibb.co/XS0bxSH/best-bootcamps.png\" width=\"400\" height=\"130\" class=\"img-fluid\" alt=\"CLRSWY_LOGO\"></p>\n",
    "<p style=\"background-color:#E51A59; font-family:newtimeroman; color:#FDFEFE; font-size:130%; text-align:center; border-radius:10px 10px;\">WAY TO REINVENT YOURSELF</p>"
   ]
  },
  {
   "cell_type": "markdown",
   "metadata": {},
   "source": [
    "<h1><p style=\"text-align: center;\">Traffic Police Stops\n",
    " <br>Part - 3</p><h1> - Visual Exploratory Data Analysis<img src=\"https://docs.google.com/uc?id=17CPCwi3_VvzcS87TOsh4_U8eExOhL6Ki\" class=\"img-fluid\" alt=\"CLRSWY\" width=\"200\" height=\"100\"> "
   ]
  },
  {
   "cell_type": "markdown",
   "metadata": {},
   "source": [
    "Are you more likely to get arrested at a certain time of day? Are drug-related stops on the rise? In this chapter, you will answer these and other questions by analyzing the dataset visually, since plots can help you to understand trends in a way that examining the raw data cannot."
   ]
  },
  {
   "cell_type": "markdown",
   "metadata": {},
   "source": [
    "## Calculating the hourly arrest rate"
   ]
  },
  {
   "cell_type": "markdown",
   "metadata": {},
   "source": [
    "When a police officer stops a driver, a small percentage of those stops ends in an arrest. This is known as the **arrest rate**. In this exercise, you'll find out whether the arrest rate varies by time of day.\n",
    "\n",
    "First, you'll calculate the arrest rate across all stops. Then, you'll calculate the **hourly arrest rate** by using the ``hour`` attribute of the ``index``. The hour ranges from ``0`` to ``23``, in which:\n",
    "\n",
    "``0 = midnight``<br>\n",
    "``12 = noon`` <br>\n",
    "``23 = 11 PM``"
   ]
  },
  {
   "cell_type": "markdown",
   "metadata": {},
   "source": [
    "> Before starting your work in this section **repeat the steps which you did in the previos chapter for preparing the data** or **use the csv file you created at the end of chapter-2.*** Continue to this chapter based on where you were in the end of the previous chapter.\n",
    "\n",
    "> Be sure 'stop_datetime' column is dataframe's index."
   ]
  },
  {
   "cell_type": "code",
   "execution_count": null,
   "metadata": {},
   "outputs": [],
   "source": [
    "import pandas as pd\n",
    "import numpy as np\n",
    "from scipy import stats\n",
    "from scipy import math\n",
    "import matplotlib.pyplot as plt"
   ]
  },
  {
   "cell_type": "code",
   "execution_count": 9,
   "metadata": {},
   "outputs": [
    {
     "name": "stdout",
     "output_type": "stream",
     "text": [
      "Requirement already satisfied: scipy in c:\\users\\nurda\\anaconda3\\lib\\site-packages (1.13.0)\n",
      "Requirement already satisfied: numpy<2.3,>=1.22.4 in c:\\users\\nurda\\anaconda3\\lib\\site-packages (from scipy) (1.26.4)\n",
      "Note: you may need to restart the kernel to use updated packages.\n"
     ]
    }
   ],
   "source": [
    "pip install --upgrade scipy"
   ]
  },
  {
   "cell_type": "code",
   "execution_count": 13,
   "metadata": {},
   "outputs": [
    {
     "name": "stderr",
     "output_type": "stream",
     "text": [
      "C:\\Users\\nurda\\AppData\\Local\\Temp\\ipykernel_12468\\1204025599.py:1: DtypeWarning: Columns (3) have mixed types. Specify dtype option on import or set low_memory=False.\n",
      "  ri = pd.read_csv(\"cleaned.csv\")\n"
     ]
    }
   ],
   "source": [
    "ri = pd.read_csv(\"cleaned.csv\")"
   ]
  },
  {
   "cell_type": "markdown",
   "metadata": {},
   "source": [
    "**Since the dataset has 509681 rows, you can work with the first 50000 rows if you wish.**"
   ]
  },
  {
   "cell_type": "code",
   "execution_count": 14,
   "metadata": {},
   "outputs": [
    {
     "data": {
      "text/html": [
       "<div>\n",
       "<style scoped>\n",
       "    .dataframe tbody tr th:only-of-type {\n",
       "        vertical-align: middle;\n",
       "    }\n",
       "\n",
       "    .dataframe tbody tr th {\n",
       "        vertical-align: top;\n",
       "    }\n",
       "\n",
       "    .dataframe thead th {\n",
       "        text-align: right;\n",
       "    }\n",
       "</style>\n",
       "<table border=\"1\" class=\"dataframe\">\n",
       "  <thead>\n",
       "    <tr style=\"text-align: right;\">\n",
       "      <th></th>\n",
       "      <th>stop_datetime</th>\n",
       "      <th>id</th>\n",
       "      <th>location_raw</th>\n",
       "      <th>police_department</th>\n",
       "      <th>driver_gender</th>\n",
       "      <th>driver_age_raw</th>\n",
       "      <th>driver_age</th>\n",
       "      <th>driver_race_raw</th>\n",
       "      <th>driver_race</th>\n",
       "      <th>violation_raw</th>\n",
       "      <th>...</th>\n",
       "      <th>search_conducted</th>\n",
       "      <th>search_type_raw</th>\n",
       "      <th>search_type</th>\n",
       "      <th>contraband_found</th>\n",
       "      <th>stop_outcome</th>\n",
       "      <th>is_arrested</th>\n",
       "      <th>stop_duration</th>\n",
       "      <th>out_of_state</th>\n",
       "      <th>drugs_related_stop</th>\n",
       "      <th>district</th>\n",
       "    </tr>\n",
       "  </thead>\n",
       "  <tbody>\n",
       "    <tr>\n",
       "      <th>0</th>\n",
       "      <td>2005-01-02 01:55:00</td>\n",
       "      <td>RI-2005-00001</td>\n",
       "      <td>Zone K1</td>\n",
       "      <td>600</td>\n",
       "      <td>M</td>\n",
       "      <td>1985.0</td>\n",
       "      <td>20.0</td>\n",
       "      <td>W</td>\n",
       "      <td>White</td>\n",
       "      <td>Speeding</td>\n",
       "      <td>...</td>\n",
       "      <td>False</td>\n",
       "      <td>NaN</td>\n",
       "      <td>NaN</td>\n",
       "      <td>False</td>\n",
       "      <td>Citation</td>\n",
       "      <td>False</td>\n",
       "      <td>0-15 Min</td>\n",
       "      <td>False</td>\n",
       "      <td>False</td>\n",
       "      <td>Zone K1</td>\n",
       "    </tr>\n",
       "    <tr>\n",
       "      <th>1</th>\n",
       "      <td>2005-01-02 20:30:00</td>\n",
       "      <td>RI-2005-00002</td>\n",
       "      <td>Zone X4</td>\n",
       "      <td>500</td>\n",
       "      <td>M</td>\n",
       "      <td>1987.0</td>\n",
       "      <td>18.0</td>\n",
       "      <td>W</td>\n",
       "      <td>White</td>\n",
       "      <td>Speeding</td>\n",
       "      <td>...</td>\n",
       "      <td>False</td>\n",
       "      <td>NaN</td>\n",
       "      <td>NaN</td>\n",
       "      <td>False</td>\n",
       "      <td>Citation</td>\n",
       "      <td>False</td>\n",
       "      <td>16-30 Min</td>\n",
       "      <td>False</td>\n",
       "      <td>False</td>\n",
       "      <td>Zone X4</td>\n",
       "    </tr>\n",
       "    <tr>\n",
       "      <th>2</th>\n",
       "      <td>2005-01-04 12:55:00</td>\n",
       "      <td>RI-2005-00004</td>\n",
       "      <td>Zone X4</td>\n",
       "      <td>500</td>\n",
       "      <td>M</td>\n",
       "      <td>1986.0</td>\n",
       "      <td>19.0</td>\n",
       "      <td>W</td>\n",
       "      <td>White</td>\n",
       "      <td>Equipment/Inspection Violation</td>\n",
       "      <td>...</td>\n",
       "      <td>False</td>\n",
       "      <td>NaN</td>\n",
       "      <td>NaN</td>\n",
       "      <td>False</td>\n",
       "      <td>Citation</td>\n",
       "      <td>False</td>\n",
       "      <td>0-15 Min</td>\n",
       "      <td>False</td>\n",
       "      <td>False</td>\n",
       "      <td>Zone X4</td>\n",
       "    </tr>\n",
       "    <tr>\n",
       "      <th>3</th>\n",
       "      <td>2005-01-06 01:30:00</td>\n",
       "      <td>RI-2005-00005</td>\n",
       "      <td>Zone X4</td>\n",
       "      <td>500</td>\n",
       "      <td>M</td>\n",
       "      <td>1978.0</td>\n",
       "      <td>27.0</td>\n",
       "      <td>B</td>\n",
       "      <td>Black</td>\n",
       "      <td>Equipment/Inspection Violation</td>\n",
       "      <td>...</td>\n",
       "      <td>False</td>\n",
       "      <td>NaN</td>\n",
       "      <td>NaN</td>\n",
       "      <td>False</td>\n",
       "      <td>Citation</td>\n",
       "      <td>False</td>\n",
       "      <td>0-15 Min</td>\n",
       "      <td>False</td>\n",
       "      <td>False</td>\n",
       "      <td>Zone X4</td>\n",
       "    </tr>\n",
       "    <tr>\n",
       "      <th>4</th>\n",
       "      <td>2005-01-12 08:05:00</td>\n",
       "      <td>RI-2005-00006</td>\n",
       "      <td>Zone X1</td>\n",
       "      <td>0</td>\n",
       "      <td>M</td>\n",
       "      <td>1973.0</td>\n",
       "      <td>32.0</td>\n",
       "      <td>B</td>\n",
       "      <td>Black</td>\n",
       "      <td>Call for Service</td>\n",
       "      <td>...</td>\n",
       "      <td>False</td>\n",
       "      <td>NaN</td>\n",
       "      <td>NaN</td>\n",
       "      <td>False</td>\n",
       "      <td>Citation</td>\n",
       "      <td>False</td>\n",
       "      <td>30+ Min</td>\n",
       "      <td>True</td>\n",
       "      <td>False</td>\n",
       "      <td>Zone X1</td>\n",
       "    </tr>\n",
       "    <tr>\n",
       "      <th>...</th>\n",
       "      <td>...</td>\n",
       "      <td>...</td>\n",
       "      <td>...</td>\n",
       "      <td>...</td>\n",
       "      <td>...</td>\n",
       "      <td>...</td>\n",
       "      <td>...</td>\n",
       "      <td>...</td>\n",
       "      <td>...</td>\n",
       "      <td>...</td>\n",
       "      <td>...</td>\n",
       "      <td>...</td>\n",
       "      <td>...</td>\n",
       "      <td>...</td>\n",
       "      <td>...</td>\n",
       "      <td>...</td>\n",
       "      <td>...</td>\n",
       "      <td>...</td>\n",
       "      <td>...</td>\n",
       "      <td>...</td>\n",
       "      <td>...</td>\n",
       "    </tr>\n",
       "    <tr>\n",
       "      <th>480579</th>\n",
       "      <td>2015-12-31 22:46:00</td>\n",
       "      <td>RI-2015-47061</td>\n",
       "      <td>Zone X1</td>\n",
       "      <td>0.0</td>\n",
       "      <td>M</td>\n",
       "      <td>1959.0</td>\n",
       "      <td>56.0</td>\n",
       "      <td>H</td>\n",
       "      <td>Hispanic</td>\n",
       "      <td>Speeding</td>\n",
       "      <td>...</td>\n",
       "      <td>False</td>\n",
       "      <td>NaN</td>\n",
       "      <td>NaN</td>\n",
       "      <td>False</td>\n",
       "      <td>Citation</td>\n",
       "      <td>False</td>\n",
       "      <td>0-15 Min</td>\n",
       "      <td>True</td>\n",
       "      <td>False</td>\n",
       "      <td>Zone X1</td>\n",
       "    </tr>\n",
       "    <tr>\n",
       "      <th>480580</th>\n",
       "      <td>2015-12-31 22:47:00</td>\n",
       "      <td>RI-2015-47062</td>\n",
       "      <td>Zone X4</td>\n",
       "      <td>500.0</td>\n",
       "      <td>M</td>\n",
       "      <td>1988.0</td>\n",
       "      <td>27.0</td>\n",
       "      <td>W</td>\n",
       "      <td>White</td>\n",
       "      <td>Registration Violation</td>\n",
       "      <td>...</td>\n",
       "      <td>False</td>\n",
       "      <td>NaN</td>\n",
       "      <td>NaN</td>\n",
       "      <td>False</td>\n",
       "      <td>Citation</td>\n",
       "      <td>False</td>\n",
       "      <td>0-15 Min</td>\n",
       "      <td>False</td>\n",
       "      <td>False</td>\n",
       "      <td>Zone X4</td>\n",
       "    </tr>\n",
       "    <tr>\n",
       "      <th>480581</th>\n",
       "      <td>2015-12-31 23:08:00</td>\n",
       "      <td>RI-2015-47063</td>\n",
       "      <td>Zone X3</td>\n",
       "      <td>200.0</td>\n",
       "      <td>M</td>\n",
       "      <td>1980.0</td>\n",
       "      <td>35.0</td>\n",
       "      <td>H</td>\n",
       "      <td>Hispanic</td>\n",
       "      <td>Equipment/Inspection Violation</td>\n",
       "      <td>...</td>\n",
       "      <td>False</td>\n",
       "      <td>NaN</td>\n",
       "      <td>NaN</td>\n",
       "      <td>False</td>\n",
       "      <td>Citation</td>\n",
       "      <td>False</td>\n",
       "      <td>0-15 Min</td>\n",
       "      <td>False</td>\n",
       "      <td>False</td>\n",
       "      <td>Zone X3</td>\n",
       "    </tr>\n",
       "    <tr>\n",
       "      <th>480582</th>\n",
       "      <td>2015-12-31 23:44:00</td>\n",
       "      <td>RI-2015-47064</td>\n",
       "      <td>Zone K2</td>\n",
       "      <td>900.0</td>\n",
       "      <td>M</td>\n",
       "      <td>1984.0</td>\n",
       "      <td>31.0</td>\n",
       "      <td>W</td>\n",
       "      <td>White</td>\n",
       "      <td>Speeding</td>\n",
       "      <td>...</td>\n",
       "      <td>False</td>\n",
       "      <td>NaN</td>\n",
       "      <td>NaN</td>\n",
       "      <td>False</td>\n",
       "      <td>Citation</td>\n",
       "      <td>False</td>\n",
       "      <td>0-15 Min</td>\n",
       "      <td>False</td>\n",
       "      <td>False</td>\n",
       "      <td>Zone K2</td>\n",
       "    </tr>\n",
       "    <tr>\n",
       "      <th>480583</th>\n",
       "      <td>2015-12-31 23:48:00</td>\n",
       "      <td>RI-2015-47065</td>\n",
       "      <td>Zone K3</td>\n",
       "      <td>300.0</td>\n",
       "      <td>M</td>\n",
       "      <td>1988.0</td>\n",
       "      <td>27.0</td>\n",
       "      <td>H</td>\n",
       "      <td>Hispanic</td>\n",
       "      <td>Seatbelt Violation</td>\n",
       "      <td>...</td>\n",
       "      <td>False</td>\n",
       "      <td>NaN</td>\n",
       "      <td>NaN</td>\n",
       "      <td>False</td>\n",
       "      <td>Citation</td>\n",
       "      <td>False</td>\n",
       "      <td>0-15 Min</td>\n",
       "      <td>False</td>\n",
       "      <td>False</td>\n",
       "      <td>Zone K3</td>\n",
       "    </tr>\n",
       "  </tbody>\n",
       "</table>\n",
       "<p>480584 rows × 21 columns</p>\n",
       "</div>"
      ],
      "text/plain": [
       "              stop_datetime             id location_raw police_department  \\\n",
       "0       2005-01-02 01:55:00  RI-2005-00001      Zone K1               600   \n",
       "1       2005-01-02 20:30:00  RI-2005-00002      Zone X4               500   \n",
       "2       2005-01-04 12:55:00  RI-2005-00004      Zone X4               500   \n",
       "3       2005-01-06 01:30:00  RI-2005-00005      Zone X4               500   \n",
       "4       2005-01-12 08:05:00  RI-2005-00006      Zone X1                 0   \n",
       "...                     ...            ...          ...               ...   \n",
       "480579  2015-12-31 22:46:00  RI-2015-47061      Zone X1               0.0   \n",
       "480580  2015-12-31 22:47:00  RI-2015-47062      Zone X4             500.0   \n",
       "480581  2015-12-31 23:08:00  RI-2015-47063      Zone X3             200.0   \n",
       "480582  2015-12-31 23:44:00  RI-2015-47064      Zone K2             900.0   \n",
       "480583  2015-12-31 23:48:00  RI-2015-47065      Zone K3             300.0   \n",
       "\n",
       "       driver_gender  driver_age_raw  driver_age driver_race_raw driver_race  \\\n",
       "0                  M          1985.0        20.0               W       White   \n",
       "1                  M          1987.0        18.0               W       White   \n",
       "2                  M          1986.0        19.0               W       White   \n",
       "3                  M          1978.0        27.0               B       Black   \n",
       "4                  M          1973.0        32.0               B       Black   \n",
       "...              ...             ...         ...             ...         ...   \n",
       "480579             M          1959.0        56.0               H    Hispanic   \n",
       "480580             M          1988.0        27.0               W       White   \n",
       "480581             M          1980.0        35.0               H    Hispanic   \n",
       "480582             M          1984.0        31.0               W       White   \n",
       "480583             M          1988.0        27.0               H    Hispanic   \n",
       "\n",
       "                         violation_raw  ... search_conducted  search_type_raw  \\\n",
       "0                             Speeding  ...            False              NaN   \n",
       "1                             Speeding  ...            False              NaN   \n",
       "2       Equipment/Inspection Violation  ...            False              NaN   \n",
       "3       Equipment/Inspection Violation  ...            False              NaN   \n",
       "4                     Call for Service  ...            False              NaN   \n",
       "...                                ...  ...              ...              ...   \n",
       "480579                        Speeding  ...            False              NaN   \n",
       "480580          Registration Violation  ...            False              NaN   \n",
       "480581  Equipment/Inspection Violation  ...            False              NaN   \n",
       "480582                        Speeding  ...            False              NaN   \n",
       "480583              Seatbelt Violation  ...            False              NaN   \n",
       "\n",
       "       search_type contraband_found  stop_outcome is_arrested  stop_duration  \\\n",
       "0              NaN            False      Citation       False       0-15 Min   \n",
       "1              NaN            False      Citation       False      16-30 Min   \n",
       "2              NaN            False      Citation       False       0-15 Min   \n",
       "3              NaN            False      Citation       False       0-15 Min   \n",
       "4              NaN            False      Citation       False        30+ Min   \n",
       "...            ...              ...           ...         ...            ...   \n",
       "480579         NaN            False      Citation       False       0-15 Min   \n",
       "480580         NaN            False      Citation       False       0-15 Min   \n",
       "480581         NaN            False      Citation       False       0-15 Min   \n",
       "480582         NaN            False      Citation       False       0-15 Min   \n",
       "480583         NaN            False      Citation       False       0-15 Min   \n",
       "\n",
       "       out_of_state drugs_related_stop  district  \n",
       "0             False              False   Zone K1  \n",
       "1             False              False   Zone X4  \n",
       "2             False              False   Zone X4  \n",
       "3             False              False   Zone X4  \n",
       "4              True              False   Zone X1  \n",
       "...             ...                ...       ...  \n",
       "480579         True              False   Zone X1  \n",
       "480580        False              False   Zone X4  \n",
       "480581        False              False   Zone X3  \n",
       "480582        False              False   Zone K2  \n",
       "480583        False              False   Zone K3  \n",
       "\n",
       "[480584 rows x 21 columns]"
      ]
     },
     "execution_count": 14,
     "metadata": {},
     "output_type": "execute_result"
    }
   ],
   "source": [
    "ri"
   ]
  },
  {
   "cell_type": "code",
   "execution_count": null,
   "metadata": {},
   "outputs": [],
   "source": []
  },
  {
   "cell_type": "code",
   "execution_count": null,
   "metadata": {},
   "outputs": [],
   "source": []
  },
  {
   "cell_type": "code",
   "execution_count": null,
   "metadata": {},
   "outputs": [],
   "source": []
  },
  {
   "cell_type": "code",
   "execution_count": null,
   "metadata": {},
   "outputs": [],
   "source": []
  },
  {
   "cell_type": "code",
   "execution_count": null,
   "metadata": {},
   "outputs": [],
   "source": []
  },
  {
   "cell_type": "markdown",
   "metadata": {},
   "source": [
    "**INSTRUCTIONS**\n",
    "\n",
    "*   Take the mean of the ``is_arrested`` column to calculate the overall arrest rate.\n",
    "*   Get the type of the dataframe's index and see the hour of the stop_datetime by using hour attribute\n",
    "*   Group by the ``hour`` attribute of the ``DataFrame`` index to calculate the hourly arrest rate.\n",
    "*   Save the **hourly arrest rate** ``Series`` as a new object, ``hourly_arrest_rate``."
   ]
  },
  {
   "cell_type": "code",
   "execution_count": null,
   "metadata": {},
   "outputs": [],
   "source": []
  },
  {
   "cell_type": "code",
   "execution_count": null,
   "metadata": {},
   "outputs": [],
   "source": []
  },
  {
   "cell_type": "code",
   "execution_count": null,
   "metadata": {},
   "outputs": [],
   "source": []
  },
  {
   "cell_type": "code",
   "execution_count": null,
   "metadata": {},
   "outputs": [],
   "source": []
  },
  {
   "cell_type": "code",
   "execution_count": null,
   "metadata": {},
   "outputs": [],
   "source": []
  },
  {
   "cell_type": "markdown",
   "metadata": {},
   "source": [
    "***"
   ]
  },
  {
   "cell_type": "markdown",
   "metadata": {},
   "source": [
    "## Plotting the hourly arrest rate"
   ]
  },
  {
   "cell_type": "markdown",
   "metadata": {},
   "source": [
    "You'll create a line plot from the ``hourly_arrest_rate`` object. A line plot is appropriate in this case because you're showing how a quantity changes over time.\n",
    "\n",
    "This plot should help you to spot some trends that may not have been obvious when examining the raw numbers!"
   ]
  },
  {
   "cell_type": "markdown",
   "metadata": {},
   "source": [
    "**INSTRUCTIONS**\n",
    "\n",
    "*   Import ``matplotlib.pyplot`` using the alias ``plt``.\n",
    "*   Create a **line plot** of ``hourly_arrest_rate`` using the ``.plot()`` method.\n",
    "*   Label the ``x-axis`` as ``'Hour'``, label the ``y-axis`` as ``'Arrest Rate'``, and title the plot ``'Arrest Rate by Time of Day'``.\n",
    "*   Display the plot using the ``.show()`` function."
   ]
  },
  {
   "cell_type": "code",
   "execution_count": null,
   "metadata": {},
   "outputs": [],
   "source": []
  },
  {
   "cell_type": "code",
   "execution_count": null,
   "metadata": {},
   "outputs": [],
   "source": []
  },
  {
   "cell_type": "code",
   "execution_count": null,
   "metadata": {},
   "outputs": [],
   "source": []
  },
  {
   "cell_type": "code",
   "execution_count": null,
   "metadata": {},
   "outputs": [],
   "source": []
  },
  {
   "cell_type": "code",
   "execution_count": null,
   "metadata": {},
   "outputs": [],
   "source": []
  },
  {
   "cell_type": "markdown",
   "metadata": {},
   "source": [
    "***"
   ]
  },
  {
   "cell_type": "markdown",
   "metadata": {},
   "source": [
    "## Plotting drug-related stops"
   ]
  },
  {
   "cell_type": "markdown",
   "metadata": {},
   "source": [
    "In a small portion of traffic stops, drugs are found in the vehicle during a search. You'll assess whether these **drug-related stops** are becoming more common over time.\n",
    "\n",
    "The Boolean column ``drugs_related_stop`` indicates whether drugs were found during a given stop. You'll calculate the **annual drug rate** by **resampling** this column, and then you'll use a line plot to visualize how the rate has changed over time."
   ]
  },
  {
   "cell_type": "markdown",
   "metadata": {},
   "source": [
    "**INSTRUCTIONS**\n",
    "\n",
    "*   Calculate the **annual rate** of drug-related stops by **resampling** the ``drugs_related_stop`` column (on the ``'A'`` frequency) and taking the mean.\n",
    "*   Save the annual drug rate ``Series`` as a new object, ``annual_drug_rate``.\n",
    "*   Create a line plot of ``annual_drug_rate`` using the ``.plot()`` method.\n",
    "*   Display the plot using the ``.show()`` function."
   ]
  },
  {
   "cell_type": "code",
   "execution_count": 31,
   "metadata": {},
   "outputs": [
    {
     "data": {
      "text/plain": [
       "stop_datetime\n",
       "2005    13809\n",
       "2006    55552\n",
       "2007    50139\n",
       "2008    45570\n",
       "2009    39820\n",
       "2010    39440\n",
       "2011    42630\n",
       "2012    57625\n",
       "2013    41922\n",
       "2014    48878\n",
       "2015    45199\n",
       "Name: drugs_related_stop, dtype: int64"
      ]
     },
     "execution_count": 31,
     "metadata": {},
     "output_type": "execute_result"
    }
   ],
   "source": [
    "ri['stop_year'] = ri['stop_datetime'].dt.year\n",
    "annual_total_stops = ri.groupby(ri['stop_datetime'].dt.year)['drugs_related_stop'].count()\n",
    "annual_total_stops"
   ]
  },
  {
   "cell_type": "code",
   "execution_count": 39,
   "metadata": {},
   "outputs": [
    {
     "data": {
      "text/plain": [
       "stop_year  drugs_related_stop\n",
       "2005       False                 13698\n",
       "           True                    111\n",
       "2006       False                 55184\n",
       "           True                    368\n",
       "2007       False                 49716\n",
       "           True                    423\n",
       "2008       False                 45226\n",
       "           True                    344\n",
       "2009       False                 39404\n",
       "           True                    416\n",
       "2010       False                 39040\n",
       "           True                    400\n",
       "2011       False                 42144\n",
       "           True                    486\n",
       "2012       False                 57029\n",
       "           True                    596\n",
       "2013       False                 41424\n",
       "           True                    498\n",
       "2014       False                 48234\n",
       "           True                    644\n",
       "2015       False                 44720\n",
       "           True                    479\n",
       "Name: count, dtype: int64"
      ]
     },
     "execution_count": 39,
     "metadata": {},
     "output_type": "execute_result"
    }
   ],
   "source": [
    "ri.groupby('stop_year')['drugs_related_stop'].value_counts()"
   ]
  },
  {
   "cell_type": "code",
   "execution_count": 44,
   "metadata": {},
   "outputs": [
    {
     "data": {
      "text/plain": [
       "stop_year\n",
       "2005    0.008038\n",
       "2006    0.006624\n",
       "2007    0.008437\n",
       "2008    0.007549\n",
       "2009    0.010447\n",
       "2010    0.010142\n",
       "2011    0.011400\n",
       "2012    0.010343\n",
       "2013    0.011879\n",
       "2014    0.013176\n",
       "2015    0.010598\n",
       "Name: drugs_related_stop, dtype: float64"
      ]
     },
     "execution_count": 44,
     "metadata": {},
     "output_type": "execute_result"
    }
   ],
   "source": [
    "annual_drug_rate = ri.groupby('stop_year')['drugs_related_stop'].mean()\n",
    "annual_drug_rate"
   ]
  },
  {
   "cell_type": "code",
   "execution_count": 43,
   "metadata": {},
   "outputs": [
    {
     "data": {
      "image/png": "[encoded data removed]",
      "text/plain": [
       "<Figure size 640x480 with 1 Axes>"
      ]
     },
     "metadata": {},
     "output_type": "display_data"
    }
   ],
   "source": [
    "annual_drug_rate.plot(kind='line', xlabel='Year', ylabel='Drug Related Stop Rate', title='Annual Drug Related Stop Rate');"
   ]
  },
  {
   "cell_type": "code",
   "execution_count": null,
   "metadata": {},
   "outputs": [],
   "source": []
  },
  {
   "cell_type": "markdown",
   "metadata": {},
   "source": [
    "***"
   ]
  },
  {
   "cell_type": "markdown",
   "metadata": {},
   "source": [
    "## Comparing drug and search rates (to be deleted)"
   ]
  },
  {
   "cell_type": "markdown",
   "metadata": {},
   "source": [
    "As you saw in the last exercise, the rate of **drug-related stops** increased significantly between ``2005`` and ``2015``. You might hypothesize that the rate of vehicle searches was also increasing, which would have led to an increase in drug-related stops even if more drivers were not carrying drugs.\n",
    "\n",
    "You can test this hypothesis by calculating the annual search rate, and then plotting it against the annual drug rate. If the hypothesis is true, then you'll see both rates increasing over time."
   ]
  },
  {
   "cell_type": "markdown",
   "metadata": {},
   "source": [
    "**INSTRUCTIONS**\n",
    "\n",
    "*   Calculate the annual search rate by **resampling** the ``search_conducted`` column, and save the result as ``annual_search_rate``.\n",
    "*   Concatenate ``annual_drug_rate`` and ``annual_search_rate`` along the ``columns axis``, and save the result as ``annual``.\n",
    "*   Create subplots of the drug and search rates from the ``annual`` ``DataFrame``.\n",
    "*   Display the subplots."
   ]
  },
  {
   "cell_type": "code",
   "execution_count": 54,
   "metadata": {},
   "outputs": [
    {
     "data": {
      "text/html": [
       "<div>\n",
       "<style scoped>\n",
       "    .dataframe tbody tr th:only-of-type {\n",
       "        vertical-align: middle;\n",
       "    }\n",
       "\n",
       "    .dataframe tbody tr th {\n",
       "        vertical-align: top;\n",
       "    }\n",
       "\n",
       "    .dataframe thead th {\n",
       "        text-align: right;\n",
       "    }\n",
       "</style>\n",
       "<table border=\"1\" class=\"dataframe\">\n",
       "  <thead>\n",
       "    <tr style=\"text-align: right;\">\n",
       "      <th></th>\n",
       "      <th>stop_datetime</th>\n",
       "      <th>id</th>\n",
       "      <th>location_raw</th>\n",
       "      <th>police_department</th>\n",
       "      <th>driver_gender</th>\n",
       "      <th>driver_age_raw</th>\n",
       "      <th>driver_age</th>\n",
       "      <th>driver_race_raw</th>\n",
       "      <th>driver_race</th>\n",
       "      <th>violation_raw</th>\n",
       "      <th>...</th>\n",
       "      <th>search_type_raw</th>\n",
       "      <th>search_type</th>\n",
       "      <th>contraband_found</th>\n",
       "      <th>stop_outcome</th>\n",
       "      <th>is_arrested</th>\n",
       "      <th>stop_duration</th>\n",
       "      <th>out_of_state</th>\n",
       "      <th>drugs_related_stop</th>\n",
       "      <th>district</th>\n",
       "      <th>stop_year</th>\n",
       "    </tr>\n",
       "  </thead>\n",
       "  <tbody>\n",
       "    <tr>\n",
       "      <th>0</th>\n",
       "      <td>2005-01-02 01:55:00</td>\n",
       "      <td>RI-2005-00001</td>\n",
       "      <td>Zone K1</td>\n",
       "      <td>600</td>\n",
       "      <td>M</td>\n",
       "      <td>1985.0</td>\n",
       "      <td>20.0</td>\n",
       "      <td>W</td>\n",
       "      <td>White</td>\n",
       "      <td>Speeding</td>\n",
       "      <td>...</td>\n",
       "      <td>NaN</td>\n",
       "      <td>NaN</td>\n",
       "      <td>False</td>\n",
       "      <td>Citation</td>\n",
       "      <td>False</td>\n",
       "      <td>0-15 Min</td>\n",
       "      <td>False</td>\n",
       "      <td>False</td>\n",
       "      <td>Zone K1</td>\n",
       "      <td>2005</td>\n",
       "    </tr>\n",
       "    <tr>\n",
       "      <th>1</th>\n",
       "      <td>2005-01-02 20:30:00</td>\n",
       "      <td>RI-2005-00002</td>\n",
       "      <td>Zone X4</td>\n",
       "      <td>500</td>\n",
       "      <td>M</td>\n",
       "      <td>1987.0</td>\n",
       "      <td>18.0</td>\n",
       "      <td>W</td>\n",
       "      <td>White</td>\n",
       "      <td>Speeding</td>\n",
       "      <td>...</td>\n",
       "      <td>NaN</td>\n",
       "      <td>NaN</td>\n",
       "      <td>False</td>\n",
       "      <td>Citation</td>\n",
       "      <td>False</td>\n",
       "      <td>16-30 Min</td>\n",
       "      <td>False</td>\n",
       "      <td>False</td>\n",
       "      <td>Zone X4</td>\n",
       "      <td>2005</td>\n",
       "    </tr>\n",
       "    <tr>\n",
       "      <th>2</th>\n",
       "      <td>2005-01-04 12:55:00</td>\n",
       "      <td>RI-2005-00004</td>\n",
       "      <td>Zone X4</td>\n",
       "      <td>500</td>\n",
       "      <td>M</td>\n",
       "      <td>1986.0</td>\n",
       "      <td>19.0</td>\n",
       "      <td>W</td>\n",
       "      <td>White</td>\n",
       "      <td>Equipment/Inspection Violation</td>\n",
       "      <td>...</td>\n",
       "      <td>NaN</td>\n",
       "      <td>NaN</td>\n",
       "      <td>False</td>\n",
       "      <td>Citation</td>\n",
       "      <td>False</td>\n",
       "      <td>0-15 Min</td>\n",
       "      <td>False</td>\n",
       "      <td>False</td>\n",
       "      <td>Zone X4</td>\n",
       "      <td>2005</td>\n",
       "    </tr>\n",
       "    <tr>\n",
       "      <th>3</th>\n",
       "      <td>2005-01-06 01:30:00</td>\n",
       "      <td>RI-2005-00005</td>\n",
       "      <td>Zone X4</td>\n",
       "      <td>500</td>\n",
       "      <td>M</td>\n",
       "      <td>1978.0</td>\n",
       "      <td>27.0</td>\n",
       "      <td>B</td>\n",
       "      <td>Black</td>\n",
       "      <td>Equipment/Inspection Violation</td>\n",
       "      <td>...</td>\n",
       "      <td>NaN</td>\n",
       "      <td>NaN</td>\n",
       "      <td>False</td>\n",
       "      <td>Citation</td>\n",
       "      <td>False</td>\n",
       "      <td>0-15 Min</td>\n",
       "      <td>False</td>\n",
       "      <td>False</td>\n",
       "      <td>Zone X4</td>\n",
       "      <td>2005</td>\n",
       "    </tr>\n",
       "    <tr>\n",
       "      <th>4</th>\n",
       "      <td>2005-01-12 08:05:00</td>\n",
       "      <td>RI-2005-00006</td>\n",
       "      <td>Zone X1</td>\n",
       "      <td>0</td>\n",
       "      <td>M</td>\n",
       "      <td>1973.0</td>\n",
       "      <td>32.0</td>\n",
       "      <td>B</td>\n",
       "      <td>Black</td>\n",
       "      <td>Call for Service</td>\n",
       "      <td>...</td>\n",
       "      <td>NaN</td>\n",
       "      <td>NaN</td>\n",
       "      <td>False</td>\n",
       "      <td>Citation</td>\n",
       "      <td>False</td>\n",
       "      <td>30+ Min</td>\n",
       "      <td>True</td>\n",
       "      <td>False</td>\n",
       "      <td>Zone X1</td>\n",
       "      <td>2005</td>\n",
       "    </tr>\n",
       "  </tbody>\n",
       "</table>\n",
       "<p>5 rows × 22 columns</p>\n",
       "</div>"
      ],
      "text/plain": [
       "        stop_datetime             id location_raw police_department  \\\n",
       "0 2005-01-02 01:55:00  RI-2005-00001      Zone K1               600   \n",
       "1 2005-01-02 20:30:00  RI-2005-00002      Zone X4               500   \n",
       "2 2005-01-04 12:55:00  RI-2005-00004      Zone X4               500   \n",
       "3 2005-01-06 01:30:00  RI-2005-00005      Zone X4               500   \n",
       "4 2005-01-12 08:05:00  RI-2005-00006      Zone X1                 0   \n",
       "\n",
       "  driver_gender  driver_age_raw  driver_age driver_race_raw driver_race  \\\n",
       "0             M          1985.0        20.0               W       White   \n",
       "1             M          1987.0        18.0               W       White   \n",
       "2             M          1986.0        19.0               W       White   \n",
       "3             M          1978.0        27.0               B       Black   \n",
       "4             M          1973.0        32.0               B       Black   \n",
       "\n",
       "                    violation_raw  ... search_type_raw  search_type  \\\n",
       "0                        Speeding  ...             NaN          NaN   \n",
       "1                        Speeding  ...             NaN          NaN   \n",
       "2  Equipment/Inspection Violation  ...             NaN          NaN   \n",
       "3  Equipment/Inspection Violation  ...             NaN          NaN   \n",
       "4                Call for Service  ...             NaN          NaN   \n",
       "\n",
       "  contraband_found stop_outcome  is_arrested stop_duration  out_of_state  \\\n",
       "0            False     Citation        False      0-15 Min         False   \n",
       "1            False     Citation        False     16-30 Min         False   \n",
       "2            False     Citation        False      0-15 Min         False   \n",
       "3            False     Citation        False      0-15 Min         False   \n",
       "4            False     Citation        False       30+ Min          True   \n",
       "\n",
       "  drugs_related_stop district  stop_year  \n",
       "0              False  Zone K1       2005  \n",
       "1              False  Zone X4       2005  \n",
       "2              False  Zone X4       2005  \n",
       "3              False  Zone X4       2005  \n",
       "4              False  Zone X1       2005  \n",
       "\n",
       "[5 rows x 22 columns]"
      ]
     },
     "execution_count": 54,
     "metadata": {},
     "output_type": "execute_result"
    }
   ],
   "source": [
    "ri.head()"
   ]
  },
  {
   "cell_type": "code",
   "execution_count": null,
   "metadata": {},
   "outputs": [],
   "source": [
    "annual_search_rate = ri['search_conducted'].resample('A').mean()"
   ]
  },
  {
   "cell_type": "code",
   "execution_count": null,
   "metadata": {},
   "outputs": [],
   "source": [
    "annual = pd.concat([annual_drug_rate, annual_search_rate], axis=1)"
   ]
  },
  {
   "cell_type": "code",
   "execution_count": null,
   "metadata": {},
   "outputs": [],
   "source": [
    "annual.plot(subplots=True, figsize=(10, 6))"
   ]
  },
  {
   "cell_type": "code",
   "execution_count": null,
   "metadata": {},
   "outputs": [],
   "source": []
  },
  {
   "cell_type": "markdown",
   "metadata": {},
   "source": [
    "***"
   ]
  },
  {
   "cell_type": "markdown",
   "metadata": {},
   "source": [
    "## Tallying violations by district"
   ]
  },
  {
   "cell_type": "markdown",
   "metadata": {},
   "source": [
    "The state of **Rhode Island** is broken into six police districts, also known as zones. How do the zones compare in terms of what violations are caught by police?\n",
    "\n",
    "In this exercise, you'll create a frequency table to determine how many violations of each type took place in each of the six zones. Then, you'll filter the table to focus on the ``\"K\"`` zones, which you'll examine further in the next exercise."
   ]
  },
  {
   "cell_type": "markdown",
   "metadata": {},
   "source": [
    "**INSTRUCTIONS**\n",
    "\n",
    "*   Create a ``frequency table`` from the ``district`` and ``violation`` columns using the ``pd.crosstab()`` function.\n",
    "*   Save the ``frequency table`` as a new object, ``all_zones``.\n",
    "*   Select rows ``'Zone K1'`` through ``'Zone K3'`` from ``all_zones`` using the ``.loc[]`` accessor.\n",
    "*   Save the smaller table as a new object, ``k_zones``."
   ]
  },
  {
   "cell_type": "code",
   "execution_count": 48,
   "metadata": {},
   "outputs": [
    {
     "data": {
      "text/html": [
       "<div>\n",
       "<style scoped>\n",
       "    .dataframe tbody tr th:only-of-type {\n",
       "        vertical-align: middle;\n",
       "    }\n",
       "\n",
       "    .dataframe tbody tr th {\n",
       "        vertical-align: top;\n",
       "    }\n",
       "\n",
       "    .dataframe thead th {\n",
       "        text-align: right;\n",
       "    }\n",
       "</style>\n",
       "<table border=\"1\" class=\"dataframe\">\n",
       "  <thead>\n",
       "    <tr style=\"text-align: right;\">\n",
       "      <th></th>\n",
       "      <th>stop_datetime</th>\n",
       "      <th>id</th>\n",
       "      <th>location_raw</th>\n",
       "      <th>police_department</th>\n",
       "      <th>driver_gender</th>\n",
       "      <th>driver_age_raw</th>\n",
       "      <th>driver_age</th>\n",
       "      <th>driver_race_raw</th>\n",
       "      <th>driver_race</th>\n",
       "      <th>violation_raw</th>\n",
       "      <th>...</th>\n",
       "      <th>search_type_raw</th>\n",
       "      <th>search_type</th>\n",
       "      <th>contraband_found</th>\n",
       "      <th>stop_outcome</th>\n",
       "      <th>is_arrested</th>\n",
       "      <th>stop_duration</th>\n",
       "      <th>out_of_state</th>\n",
       "      <th>drugs_related_stop</th>\n",
       "      <th>district</th>\n",
       "      <th>stop_year</th>\n",
       "    </tr>\n",
       "  </thead>\n",
       "  <tbody>\n",
       "    <tr>\n",
       "      <th>0</th>\n",
       "      <td>2005-01-02 01:55:00</td>\n",
       "      <td>RI-2005-00001</td>\n",
       "      <td>Zone K1</td>\n",
       "      <td>600</td>\n",
       "      <td>M</td>\n",
       "      <td>1985.0</td>\n",
       "      <td>20.0</td>\n",
       "      <td>W</td>\n",
       "      <td>White</td>\n",
       "      <td>Speeding</td>\n",
       "      <td>...</td>\n",
       "      <td>NaN</td>\n",
       "      <td>NaN</td>\n",
       "      <td>False</td>\n",
       "      <td>Citation</td>\n",
       "      <td>False</td>\n",
       "      <td>0-15 Min</td>\n",
       "      <td>False</td>\n",
       "      <td>False</td>\n",
       "      <td>Zone K1</td>\n",
       "      <td>2005</td>\n",
       "    </tr>\n",
       "    <tr>\n",
       "      <th>1</th>\n",
       "      <td>2005-01-02 20:30:00</td>\n",
       "      <td>RI-2005-00002</td>\n",
       "      <td>Zone X4</td>\n",
       "      <td>500</td>\n",
       "      <td>M</td>\n",
       "      <td>1987.0</td>\n",
       "      <td>18.0</td>\n",
       "      <td>W</td>\n",
       "      <td>White</td>\n",
       "      <td>Speeding</td>\n",
       "      <td>...</td>\n",
       "      <td>NaN</td>\n",
       "      <td>NaN</td>\n",
       "      <td>False</td>\n",
       "      <td>Citation</td>\n",
       "      <td>False</td>\n",
       "      <td>16-30 Min</td>\n",
       "      <td>False</td>\n",
       "      <td>False</td>\n",
       "      <td>Zone X4</td>\n",
       "      <td>2005</td>\n",
       "    </tr>\n",
       "    <tr>\n",
       "      <th>2</th>\n",
       "      <td>2005-01-04 12:55:00</td>\n",
       "      <td>RI-2005-00004</td>\n",
       "      <td>Zone X4</td>\n",
       "      <td>500</td>\n",
       "      <td>M</td>\n",
       "      <td>1986.0</td>\n",
       "      <td>19.0</td>\n",
       "      <td>W</td>\n",
       "      <td>White</td>\n",
       "      <td>Equipment/Inspection Violation</td>\n",
       "      <td>...</td>\n",
       "      <td>NaN</td>\n",
       "      <td>NaN</td>\n",
       "      <td>False</td>\n",
       "      <td>Citation</td>\n",
       "      <td>False</td>\n",
       "      <td>0-15 Min</td>\n",
       "      <td>False</td>\n",
       "      <td>False</td>\n",
       "      <td>Zone X4</td>\n",
       "      <td>2005</td>\n",
       "    </tr>\n",
       "    <tr>\n",
       "      <th>3</th>\n",
       "      <td>2005-01-06 01:30:00</td>\n",
       "      <td>RI-2005-00005</td>\n",
       "      <td>Zone X4</td>\n",
       "      <td>500</td>\n",
       "      <td>M</td>\n",
       "      <td>1978.0</td>\n",
       "      <td>27.0</td>\n",
       "      <td>B</td>\n",
       "      <td>Black</td>\n",
       "      <td>Equipment/Inspection Violation</td>\n",
       "      <td>...</td>\n",
       "      <td>NaN</td>\n",
       "      <td>NaN</td>\n",
       "      <td>False</td>\n",
       "      <td>Citation</td>\n",
       "      <td>False</td>\n",
       "      <td>0-15 Min</td>\n",
       "      <td>False</td>\n",
       "      <td>False</td>\n",
       "      <td>Zone X4</td>\n",
       "      <td>2005</td>\n",
       "    </tr>\n",
       "    <tr>\n",
       "      <th>4</th>\n",
       "      <td>2005-01-12 08:05:00</td>\n",
       "      <td>RI-2005-00006</td>\n",
       "      <td>Zone X1</td>\n",
       "      <td>0</td>\n",
       "      <td>M</td>\n",
       "      <td>1973.0</td>\n",
       "      <td>32.0</td>\n",
       "      <td>B</td>\n",
       "      <td>Black</td>\n",
       "      <td>Call for Service</td>\n",
       "      <td>...</td>\n",
       "      <td>NaN</td>\n",
       "      <td>NaN</td>\n",
       "      <td>False</td>\n",
       "      <td>Citation</td>\n",
       "      <td>False</td>\n",
       "      <td>30+ Min</td>\n",
       "      <td>True</td>\n",
       "      <td>False</td>\n",
       "      <td>Zone X1</td>\n",
       "      <td>2005</td>\n",
       "    </tr>\n",
       "  </tbody>\n",
       "</table>\n",
       "<p>5 rows × 22 columns</p>\n",
       "</div>"
      ],
      "text/plain": [
       "        stop_datetime             id location_raw police_department  \\\n",
       "0 2005-01-02 01:55:00  RI-2005-00001      Zone K1               600   \n",
       "1 2005-01-02 20:30:00  RI-2005-00002      Zone X4               500   \n",
       "2 2005-01-04 12:55:00  RI-2005-00004      Zone X4               500   \n",
       "3 2005-01-06 01:30:00  RI-2005-00005      Zone X4               500   \n",
       "4 2005-01-12 08:05:00  RI-2005-00006      Zone X1                 0   \n",
       "\n",
       "  driver_gender  driver_age_raw  driver_age driver_race_raw driver_race  \\\n",
       "0             M          1985.0        20.0               W       White   \n",
       "1             M          1987.0        18.0               W       White   \n",
       "2             M          1986.0        19.0               W       White   \n",
       "3             M          1978.0        27.0               B       Black   \n",
       "4             M          1973.0        32.0               B       Black   \n",
       "\n",
       "                    violation_raw  ... search_type_raw  search_type  \\\n",
       "0                        Speeding  ...             NaN          NaN   \n",
       "1                        Speeding  ...             NaN          NaN   \n",
       "2  Equipment/Inspection Violation  ...             NaN          NaN   \n",
       "3  Equipment/Inspection Violation  ...             NaN          NaN   \n",
       "4                Call for Service  ...             NaN          NaN   \n",
       "\n",
       "  contraband_found stop_outcome  is_arrested stop_duration  out_of_state  \\\n",
       "0            False     Citation        False      0-15 Min         False   \n",
       "1            False     Citation        False     16-30 Min         False   \n",
       "2            False     Citation        False      0-15 Min         False   \n",
       "3            False     Citation        False      0-15 Min         False   \n",
       "4            False     Citation        False       30+ Min          True   \n",
       "\n",
       "  drugs_related_stop district  stop_year  \n",
       "0              False  Zone K1       2005  \n",
       "1              False  Zone X4       2005  \n",
       "2              False  Zone X4       2005  \n",
       "3              False  Zone X4       2005  \n",
       "4              False  Zone X1       2005  \n",
       "\n",
       "[5 rows x 22 columns]"
      ]
     },
     "execution_count": 48,
     "metadata": {},
     "output_type": "execute_result"
    }
   ],
   "source": [
    "ri.head()"
   ]
  },
  {
   "cell_type": "code",
   "execution_count": 51,
   "metadata": {},
   "outputs": [
    {
     "data": {
      "text/plain": [
       "array(['Zone K1', 'Zone X4', 'Zone X1', 'Zone K3', 'Zone X3', 'Zone K2'],\n",
       "      dtype=object)"
      ]
     },
     "execution_count": 51,
     "metadata": {},
     "output_type": "execute_result"
    }
   ],
   "source": [
    "ri.district.unique()"
   ]
  },
  {
   "cell_type": "code",
   "execution_count": 52,
   "metadata": {},
   "outputs": [
    {
     "data": {
      "text/plain": [
       "array(['Speeding', 'Equipment', 'Other', 'Moving violation',\n",
       "       'Registration/plates', 'Seat belt'], dtype=object)"
      ]
     },
     "execution_count": 52,
     "metadata": {},
     "output_type": "execute_result"
    }
   ],
   "source": [
    "ri.violation.unique()"
   ]
  },
  {
   "cell_type": "code",
   "execution_count": 49,
   "metadata": {},
   "outputs": [
    {
     "data": {
      "text/html": [
       "<div>\n",
       "<style scoped>\n",
       "    .dataframe tbody tr th:only-of-type {\n",
       "        vertical-align: middle;\n",
       "    }\n",
       "\n",
       "    .dataframe tbody tr th {\n",
       "        vertical-align: top;\n",
       "    }\n",
       "\n",
       "    .dataframe thead th {\n",
       "        text-align: right;\n",
       "    }\n",
       "</style>\n",
       "<table border=\"1\" class=\"dataframe\">\n",
       "  <thead>\n",
       "    <tr style=\"text-align: right;\">\n",
       "      <th>violation</th>\n",
       "      <th>Equipment</th>\n",
       "      <th>Moving violation</th>\n",
       "      <th>Other</th>\n",
       "      <th>Registration/plates</th>\n",
       "      <th>Seat belt</th>\n",
       "      <th>Speeding</th>\n",
       "    </tr>\n",
       "    <tr>\n",
       "      <th>district</th>\n",
       "      <th></th>\n",
       "      <th></th>\n",
       "      <th></th>\n",
       "      <th></th>\n",
       "      <th></th>\n",
       "      <th></th>\n",
       "    </tr>\n",
       "  </thead>\n",
       "  <tbody>\n",
       "    <tr>\n",
       "      <th>Zone K1</th>\n",
       "      <td>3786</td>\n",
       "      <td>7127</td>\n",
       "      <td>1501</td>\n",
       "      <td>628</td>\n",
       "      <td>1</td>\n",
       "      <td>33067</td>\n",
       "    </tr>\n",
       "    <tr>\n",
       "      <th>Zone K2</th>\n",
       "      <td>11285</td>\n",
       "      <td>16440</td>\n",
       "      <td>5103</td>\n",
       "      <td>4056</td>\n",
       "      <td>2897</td>\n",
       "      <td>57500</td>\n",
       "    </tr>\n",
       "    <tr>\n",
       "      <th>Zone K3</th>\n",
       "      <td>12959</td>\n",
       "      <td>16218</td>\n",
       "      <td>3926</td>\n",
       "      <td>3871</td>\n",
       "      <td>3660</td>\n",
       "      <td>68234</td>\n",
       "    </tr>\n",
       "    <tr>\n",
       "      <th>Zone X1</th>\n",
       "      <td>1725</td>\n",
       "      <td>3711</td>\n",
       "      <td>752</td>\n",
       "      <td>192</td>\n",
       "      <td>451</td>\n",
       "      <td>6393</td>\n",
       "    </tr>\n",
       "    <tr>\n",
       "      <th>Zone X3</th>\n",
       "      <td>11520</td>\n",
       "      <td>17178</td>\n",
       "      <td>4069</td>\n",
       "      <td>3532</td>\n",
       "      <td>4445</td>\n",
       "      <td>48687</td>\n",
       "    </tr>\n",
       "    <tr>\n",
       "      <th>Zone X4</th>\n",
       "      <td>19975</td>\n",
       "      <td>29554</td>\n",
       "      <td>8865</td>\n",
       "      <td>7551</td>\n",
       "      <td>4870</td>\n",
       "      <td>54855</td>\n",
       "    </tr>\n",
       "  </tbody>\n",
       "</table>\n",
       "</div>"
      ],
      "text/plain": [
       "violation  Equipment  Moving violation  Other  Registration/plates  Seat belt  \\\n",
       "district                                                                        \n",
       "Zone K1         3786              7127   1501                  628          1   \n",
       "Zone K2        11285             16440   5103                 4056       2897   \n",
       "Zone K3        12959             16218   3926                 3871       3660   \n",
       "Zone X1         1725              3711    752                  192        451   \n",
       "Zone X3        11520             17178   4069                 3532       4445   \n",
       "Zone X4        19975             29554   8865                 7551       4870   \n",
       "\n",
       "violation  Speeding  \n",
       "district             \n",
       "Zone K1       33067  \n",
       "Zone K2       57500  \n",
       "Zone K3       68234  \n",
       "Zone X1        6393  \n",
       "Zone X3       48687  \n",
       "Zone X4       54855  "
      ]
     },
     "execution_count": 49,
     "metadata": {},
     "output_type": "execute_result"
    }
   ],
   "source": [
    "# Step 1: Create a frequency table from the district and violation columns\n",
    "all_zones = pd.crosstab(ri['district'], ri['violation'])\n",
    "all_zones"
   ]
  },
  {
   "cell_type": "code",
   "execution_count": 53,
   "metadata": {},
   "outputs": [
    {
     "name": "stdout",
     "output_type": "stream",
     "text": [
      "violation  Equipment  Moving violation  Other  Registration/plates  Seat belt  \\\n",
      "district                                                                        \n",
      "Zone K1         3786              7127   1501                  628          1   \n",
      "Zone K2        11285             16440   5103                 4056       2897   \n",
      "Zone K3        12959             16218   3926                 3871       3660   \n",
      "\n",
      "violation  Speeding  \n",
      "district             \n",
      "Zone K1       33067  \n",
      "Zone K2       57500  \n",
      "Zone K3       68234  \n"
     ]
    }
   ],
   "source": [
    "\n",
    "# Step 2: Select rows 'Zone K1' through 'Zone K3' from all_zones\n",
    "k_zones = all_zones.loc['Zone K1':'Zone K3']\n",
    "print(k_zones)"
   ]
  },
  {
   "cell_type": "code",
   "execution_count": null,
   "metadata": {},
   "outputs": [],
   "source": []
  },
  {
   "cell_type": "markdown",
   "metadata": {},
   "source": [
    "***"
   ]
  },
  {
   "cell_type": "markdown",
   "metadata": {},
   "source": [
    "## Plotting violations by district"
   ]
  },
  {
   "cell_type": "markdown",
   "metadata": {},
   "source": [
    "Now that you've created a frequency table focused on the ``\"K\"`` zones, you'll visualize the data to help you compare what violations are being caught in each zone.\n",
    "\n",
    "First you'll create a **bar plot**, which is an appropriate plot type since you're comparing categorical data. Then you'll create a **stacked bar plot** in order to get a slightly different look at the data. Which plot do you find to be more insightful?"
   ]
  },
  {
   "cell_type": "markdown",
   "metadata": {},
   "source": [
    "**INSTRUCTIONS 1/2**\n",
    "\n",
    "*   Create a bar plot of ``k_zones``.\n",
    "*   Display the plot and examine it. What do you notice about each of the zones?"
   ]
  },
  {
   "cell_type": "code",
   "execution_count": null,
   "metadata": {},
   "outputs": [],
   "source": []
  },
  {
   "cell_type": "code",
   "execution_count": null,
   "metadata": {},
   "outputs": [],
   "source": []
  },
  {
   "cell_type": "markdown",
   "metadata": {},
   "source": [
    "**INSTRUCTIONS 2/2**\n",
    "\n",
    "*   Create a stacked bar plot of ``k_zones``.\n",
    "*   Display the plot and examine it. Do you notice anything different about the data than you did previously?"
   ]
  },
  {
   "cell_type": "code",
   "execution_count": null,
   "metadata": {},
   "outputs": [],
   "source": []
  },
  {
   "cell_type": "code",
   "execution_count": null,
   "metadata": {},
   "outputs": [],
   "source": []
  },
  {
   "cell_type": "markdown",
   "metadata": {},
   "source": [
    "***"
   ]
  },
  {
   "cell_type": "markdown",
   "metadata": {},
   "source": [
    "## Converting stop durations to numbers"
   ]
  },
  {
   "cell_type": "markdown",
   "metadata": {},
   "source": [
    "In the traffic stops dataset, the ``stop_duration`` column tells you approximately how long the driver was detained by the officer. Unfortunately, the durations are stored as ``strings``, such as ``'0-15 Min'``. How can you make this data easier to analyze?\n",
    "\n",
    "In this exercise, you'll convert the **stop durations** to ``integers``. Because the precise durations are not available, you'll have to estimate the numbers using reasonable values:\n",
    "\n",
    "*   Convert ``'0-15 Min'`` to ``8``\n",
    "*   Convert ``'16-30 Min'`` to ``23``\n",
    "*   Convert ``'30+ Min'`` to ``45``"
   ]
  },
  {
   "cell_type": "markdown",
   "metadata": {},
   "source": [
    "**INSTRUCTIONS**\n",
    "\n",
    "*   Print the **unique values** in the ``stop_duration`` column. (This has been done for you.)\n",
    "*   Create a ``dictionary`` called ``mapping`` that maps the ``stop_duration`` strings to the integers specified above.\n",
    "*   Convert the ``stop_duration`` strings to integers using the ``mapping``, and store the results in a new column called ``stop_minutes``.\n",
    "*   Print the unique values in the ``stop_minutes`` column, to verify that the durations were properly converted to integers."
   ]
  },
  {
   "cell_type": "code",
   "execution_count": 86,
   "metadata": {},
   "outputs": [
    {
     "data": {
      "text/plain": [
       "array(['0-15 Min', '16-30 Min', '30+ Min', '2', '1'], dtype=object)"
      ]
     },
     "execution_count": 86,
     "metadata": {},
     "output_type": "execute_result"
    }
   ],
   "source": [
    "ri[\"stop_duration\"].unique()"
   ]
  },
  {
   "cell_type": "code",
   "execution_count": null,
   "metadata": {},
   "outputs": [],
   "source": []
  },
  {
   "cell_type": "code",
   "execution_count": null,
   "metadata": {},
   "outputs": [],
   "source": []
  },
  {
   "cell_type": "code",
   "execution_count": null,
   "metadata": {},
   "outputs": [],
   "source": []
  },
  {
   "cell_type": "code",
   "execution_count": null,
   "metadata": {},
   "outputs": [],
   "source": []
  },
  {
   "cell_type": "code",
   "execution_count": null,
   "metadata": {},
   "outputs": [],
   "source": []
  },
  {
   "cell_type": "markdown",
   "metadata": {},
   "source": [
    "***"
   ]
  },
  {
   "cell_type": "markdown",
   "metadata": {},
   "source": [
    "## Plotting stop length"
   ]
  },
  {
   "cell_type": "markdown",
   "metadata": {},
   "source": [
    "If you were stopped for a particular violation, how long might you expect to be detained?\n",
    "\n",
    "In this exercise, you'll visualize the **average length** of time drivers are stopped for each **type** of **violation**. Rather than using the ``violation`` column in this exercise, you'll use ``violation_raw`` since it contains more detailed descriptions of the violations."
   ]
  },
  {
   "cell_type": "markdown",
   "metadata": {},
   "source": [
    "**INSTRUCTIONS**\n",
    "\n",
    "*   For each value in the ``violation_raw`` column, calculate the **mean number** of ``stop_minutes`` that a driver is detained.\n",
    "*   Save the resulting ``Series`` as a new object, ``stop_length``.\n",
    "*   Sort ``stop_length`` by its values, and then visualize it using a **horizontal bar plot**.\n",
    "*   Display the plot."
   ]
  },
  {
   "cell_type": "code",
   "execution_count": null,
   "metadata": {},
   "outputs": [],
   "source": []
  },
  {
   "cell_type": "code",
   "execution_count": null,
   "metadata": {},
   "outputs": [],
   "source": []
  },
  {
   "cell_type": "code",
   "execution_count": null,
   "metadata": {},
   "outputs": [],
   "source": []
  },
  {
   "cell_type": "code",
   "execution_count": null,
   "metadata": {},
   "outputs": [],
   "source": []
  },
  {
   "cell_type": "code",
   "execution_count": null,
   "metadata": {},
   "outputs": [],
   "source": []
  },
  {
   "cell_type": "markdown",
   "metadata": {},
   "source": [
    "___\n",
    "\n",
    "<p style='text-align: center;'><img src='https://docs.google.com/uc?id=1lY0Uj5R04yMY3-ZppPWxqCr5pvBLYPnV' class='img-fluid' alt='CLRSWY'></p>\n",
    "\n",
    "___"
   ]
  },
  {
   "cell_type": "markdown",
   "metadata": {},
   "source": [
    "**- Please save the edits made so far to a new csv file with the name RI_Part_3 to use it in the next step.**\n",
    "\n",
    "**- Load and read new csv file.**\n",
    "\n",
    "**- Check the first five rows.***\n",
    "\n",
    "**- Check the shape of the dataframe.**"
   ]
  },
  {
   "cell_type": "code",
   "execution_count": null,
   "metadata": {},
   "outputs": [],
   "source": []
  }
 ],
 "metadata": {
  "kernelspec": {
   "display_name": "Python 3 (ipykernel)",
   "language": "python",
   "name": "python3"
  },
  "language_info": {
   "codemirror_mode": {
    "name": "ipython",
    "version": 3
   },
   "file_extension": ".py",
   "mimetype": "text/x-python",
   "name": "python",
   "nbconvert_exporter": "python",
   "pygments_lexer": "ipython3",
   "version": "3.11.7"
  }
 },
 "nbformat": 4,
 "nbformat_minor": 4
}
